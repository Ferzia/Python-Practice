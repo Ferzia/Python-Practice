{
 "cells": [
  {
   "cell_type": "markdown",
   "id": "6fd0e9d3",
   "metadata": {},
   "source": [
    "This is my handy program for finding the largest number among three. It's a breeze, even if you're not a tech expert!"
   ]
  },
  {
   "cell_type": "code",
   "execution_count": 10,
   "id": "f2bfdeb3",
   "metadata": {},
   "outputs": [
    {
     "name": "stdout",
     "output_type": "stream",
     "text": [
      "Please enter three numbers to find the largest of them. Please enter the first number: 1\n",
      "Please enter the second number: 2\n",
      "Please enter the third number: 3\n",
      "3 is the greatest\n"
     ]
    }
   ],
   "source": [
    "def largest(a, b, c):\n",
    "    \n",
    "    if (a > b)and(a > c):\n",
    "        print(a,\"is the greatest\")\n",
    "    elif (b > a)and (b > c):\n",
    "        print(b,\"is the greatest\")\n",
    "    else:\n",
    "        print(c,\"is the greatest\")\n",
    "\n",
    "\n",
    "a = input(\"Please enter three numbers to find the largest of them. Please enter the first number: \")\n",
    "b = input(\"Please enter the second number: \")\n",
    "c = input(\"Please enter the third number: \")\n",
    "\n",
    "largest(a, b, c)"
   ]
  },
  {
   "cell_type": "markdown",
   "id": "230c0e2c",
   "metadata": {},
   "source": [
    "Next Steps: Including Tkinter or PyQt5 as a GUI"
   ]
  }
 ],
 "metadata": {
  "kernelspec": {
   "display_name": "Python 3 (ipykernel)",
   "language": "python",
   "name": "python3"
  },
  "language_info": {
   "codemirror_mode": {
    "name": "ipython",
    "version": 3
   },
   "file_extension": ".py",
   "mimetype": "text/x-python",
   "name": "python",
   "nbconvert_exporter": "python",
   "pygments_lexer": "ipython3",
   "version": "3.9.12"
  }
 },
 "nbformat": 4,
 "nbformat_minor": 5
}
