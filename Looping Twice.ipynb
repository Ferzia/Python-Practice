{
 "cells": [
  {
   "cell_type": "markdown",
   "id": "d27d7f43",
   "metadata": {},
   "source": [
    "Python lists store collections of values, and using a 'for' loop to iterate over a list is simple. However, when you need to loop over two lists simultaneously, an additional variable is required to navigate both."
   ]
  },
  {
   "cell_type": "code",
   "execution_count": 1,
   "id": "94356907",
   "metadata": {},
   "outputs": [
    {
     "name": "stdout",
     "output_type": "stream",
     "text": [
      "My Name is  Ferzia I am  33 years old\n",
      "My Name is  Faiza I am  32 years old\n",
      "My Name is  Fizza I am  26 years old\n"
     ]
    }
   ],
   "source": [
    "names = [\"Ferzia\", \"Faiza\", \"Fizza\"]\n",
    "age = [33, 32, 26]\n",
    "index = 0\n",
    "for i in names:\n",
    "    print(\"My Name is \", names[index], \"I am \", age[index], \"years old\")\n",
    "    index = index + 1"
   ]
  },
  {
   "cell_type": "markdown",
   "id": "33a2cbb9",
   "metadata": {},
   "source": [
    "Python easily handles looping through a single list, but when working with two lists concurrently, this approach is essential."
   ]
  },
  {
   "cell_type": "markdown",
   "id": "c5341c9d",
   "metadata": {},
   "source": [
    "Next Steps: Make a for loop to ask for two different lists of names and ages with the input variables"
   ]
  },
  {
   "cell_type": "code",
   "execution_count": null,
   "id": "03e090c6",
   "metadata": {},
   "outputs": [],
   "source": []
  }
 ],
 "metadata": {
  "kernelspec": {
   "display_name": "Python 3 (ipykernel)",
   "language": "python",
   "name": "python3"
  },
  "language_info": {
   "codemirror_mode": {
    "name": "ipython",
    "version": 3
   },
   "file_extension": ".py",
   "mimetype": "text/x-python",
   "name": "python",
   "nbconvert_exporter": "python",
   "pygments_lexer": "ipython3",
   "version": "3.9.12"
  }
 },
 "nbformat": 4,
 "nbformat_minor": 5
}
