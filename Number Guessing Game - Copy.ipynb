{
 "cells": [
  {
   "cell_type": "code",
   "execution_count": null,
   "id": "6d2908c0",
   "metadata": {},
   "outputs": [],
   "source": [
    "import random\n",
    "input_user = 'Y'\n",
    "while input_user != 'N':\n",
    "    input_user = input(\"Do you want to play? \")\n",
    "    if input_user == 'Y':\n",
    "        number = random.randint(1,10)\n",
    "        guess = int(input(\"Please enter a number: \"))\n",
    "        if guess == number:\n",
    "            print(\"YAYYY!!!! You guessed correct\")\n",
    "        else:\n",
    "            print(\"You guessed incorrect\")\n",
    "    else:\n",
    "        print(\"Okay, have a great day!!\")"
   ]
  }
 ],
 "metadata": {
  "kernelspec": {
   "display_name": "Python 3 (ipykernel)",
   "language": "python",
   "name": "python3"
  },
  "language_info": {
   "codemirror_mode": {
    "name": "ipython",
    "version": 3
   },
   "file_extension": ".py",
   "mimetype": "text/x-python",
   "name": "python",
   "nbconvert_exporter": "python",
   "pygments_lexer": "ipython3",
   "version": "3.9.12"
  }
 },
 "nbformat": 4,
 "nbformat_minor": 5
}
