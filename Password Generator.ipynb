{
 "cells": [
  {
   "cell_type": "code",
   "execution_count": 1,
   "id": "7ee8de0a",
   "metadata": {},
   "outputs": [
    {
     "name": "stdout",
     "output_type": "stream",
     "text": [
      "6!86%$53V5A@0ICv#1niAL8\n"
     ]
    }
   ],
   "source": [
    "import random\n",
    "import string\n",
    "from random import shuffle\n",
    "\n",
    "special_character = ['$', '%', '#', '@', '!']\n",
    "numbers = [random.randint(0,9) for i in range(9)]\n",
    "number = [str(i) for i in numbers]\n",
    "alphabets = [random.choice(string.ascii_letters) for i in range(9)]\n",
    "temp = alphabets + number + special_character\n",
    "shuffle(temp)\n",
    "password = ''.join(temp)\n",
    "\n",
    "print (password)"
   ]
  },
  {
   "cell_type": "code",
   "execution_count": null,
   "id": "82455911",
   "metadata": {},
   "outputs": [],
   "source": []
  }
 ],
 "metadata": {
  "kernelspec": {
   "display_name": "Python 3 (ipykernel)",
   "language": "python",
   "name": "python3"
  },
  "language_info": {
   "codemirror_mode": {
    "name": "ipython",
    "version": 3
   },
   "file_extension": ".py",
   "mimetype": "text/x-python",
   "name": "python",
   "nbconvert_exporter": "python",
   "pygments_lexer": "ipython3",
   "version": "3.9.12"
  }
 },
 "nbformat": 4,
 "nbformat_minor": 5
}
